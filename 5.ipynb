{
  "cells": [
    {
      "cell_type": "markdown",
      "metadata": {
        "id": "view-in-github",
        "colab_type": "text"
      },
      "source": [
        "<a href=\"https://colab.research.google.com/github/sree38/DSA-using-Python-programming-assignment-week-2-solutions-2022/blob/main/5.ipynb\" target=\"_parent\"><img src=\"https://colab.research.google.com/assets/colab-badge.svg\" alt=\"Open In Colab\"/></a>"
      ]
    },
    {
      "cell_type": "markdown",
      "metadata": {
        "id": "2-dJ3Ty8w6nx"
      },
      "source": [
        "# Machine Learning Project : Web Page Traffic Prediction Part1 using SkLearn Python Library\n"
      ]
    },
    {
      "cell_type": "markdown",
      "metadata": {
        "id": "F-QCdx4Mw6n0"
      },
      "source": [
        "# Step 1\n",
        "Import all the packages and read the data from excel file using pandas and doing some exploratory data analysis\n",
        "Also install one more package xlrd for excel read using pandas using below command via pip\n",
        "\n",
        "!pip install xlrd"
      ]
    },
    {
      "cell_type": "code",
      "execution_count": null,
      "metadata": {
        "id": "2eZeqOXEw6n2"
      },
      "outputs": [],
      "source": [
        ""
      ]
    },
    {
      "cell_type": "code",
      "execution_count": null,
      "metadata": {
        "id": "CXiGDJgSw6n2"
      },
      "outputs": [],
      "source": [
        "import numpy as np\n",
        "import pandas as pd\n",
        "import matplotlib.pyplot as plt\n",
        "import seaborn as sns\n",
        "%matplotlib inline"
      ]
    },
    {
      "cell_type": "code",
      "execution_count": null,
      "metadata": {
        "id": "NFehwZ7iw6n3"
      },
      "outputs": [],
      "source": [
        "traffic_data=pd.read_excel('data.xlsx')"
      ]
    },
    {
      "cell_type": "code",
      "execution_count": null,
      "metadata": {
        "id": "ldhv8-M7w6n4",
        "outputId": "1ab76e02-1e5c-44f3-fc8e-3287fec24fb3"
      },
      "outputs": [
        {
          "data": {
            "text/html": [
              "<div>\n",
              "<style scoped>\n",
              "    .dataframe tbody tr th:only-of-type {\n",
              "        vertical-align: middle;\n",
              "    }\n",
              "\n",
              "    .dataframe tbody tr th {\n",
              "        vertical-align: top;\n",
              "    }\n",
              "\n",
              "    .dataframe thead th {\n",
              "        text-align: right;\n",
              "    }\n",
              "</style>\n",
              "<table border=\"1\" class=\"dataframe\">\n",
              "  <thead>\n",
              "    <tr style=\"text-align: right;\">\n",
              "      <th></th>\n",
              "      <th>Returning User</th>\n",
              "      <th>New User</th>\n",
              "      <th>Page Loading Time(in sec)</th>\n",
              "      <th>Total Hits(per day)</th>\n",
              "    </tr>\n",
              "  </thead>\n",
              "  <tbody>\n",
              "    <tr>\n",
              "      <th>0</th>\n",
              "      <td>10</td>\n",
              "      <td>10</td>\n",
              "      <td>10</td>\n",
              "      <td>20</td>\n",
              "    </tr>\n",
              "    <tr>\n",
              "      <th>1</th>\n",
              "      <td>20</td>\n",
              "      <td>10</td>\n",
              "      <td>20</td>\n",
              "      <td>30</td>\n",
              "    </tr>\n",
              "    <tr>\n",
              "      <th>2</th>\n",
              "      <td>30</td>\n",
              "      <td>5</td>\n",
              "      <td>30</td>\n",
              "      <td>35</td>\n",
              "    </tr>\n",
              "    <tr>\n",
              "      <th>3</th>\n",
              "      <td>40</td>\n",
              "      <td>60</td>\n",
              "      <td>10</td>\n",
              "      <td>100</td>\n",
              "    </tr>\n",
              "    <tr>\n",
              "      <th>4</th>\n",
              "      <td>50</td>\n",
              "      <td>50</td>\n",
              "      <td>20</td>\n",
              "      <td>100</td>\n",
              "    </tr>\n",
              "  </tbody>\n",
              "</table>\n",
              "</div>"
            ],
            "text/plain": [
              "   Returning User  New User  Page Loading Time(in sec)  Total Hits(per day)\n",
              "0              10        10                         10                   20\n",
              "1              20        10                         20                   30\n",
              "2              30         5                         30                   35\n",
              "3              40        60                         10                  100\n",
              "4              50        50                         20                  100"
            ]
          },
          "execution_count": 3,
          "metadata": {},
          "output_type": "execute_result"
        }
      ],
      "source": [
        "#Read the first five records of the data frame\n",
        "traffic_data.head()"
      ]
    },
    {
      "cell_type": "markdown",
      "metadata": {
        "id": "Oby2ymoEw6n5"
      },
      "source": [
        "# Doing Some EDA(Exploratory Data Analysis)"
      ]
    },
    {
      "cell_type": "code",
      "execution_count": null,
      "metadata": {
        "id": "WTK8PrUVw6n5",
        "outputId": "67036a21-a870-4871-9577-27b5022c6364"
      },
      "outputs": [
        {
          "data": {
            "text/plain": [
              "(19, 4)"
            ]
          },
          "execution_count": 4,
          "metadata": {},
          "output_type": "execute_result"
        }
      ],
      "source": [
        "#Check the shape of the data frame\n",
        "traffic_data.shape"
      ]
    },
    {
      "cell_type": "code",
      "execution_count": null,
      "metadata": {
        "id": "xF7HcPSbw6n6",
        "outputId": "a63053ec-4b1b-4b86-9e79-2172e049eeb8"
      },
      "outputs": [
        {
          "name": "stdout",
          "output_type": "stream",
          "text": [
            "<class 'pandas.core.frame.DataFrame'>\n",
            "RangeIndex: 19 entries, 0 to 18\n",
            "Data columns (total 4 columns):\n",
            " #   Column                     Non-Null Count  Dtype\n",
            "---  ------                     --------------  -----\n",
            " 0   Returning User             19 non-null     int64\n",
            " 1   New User                   19 non-null     int64\n",
            " 2   Page Loading Time(in sec)  19 non-null     int64\n",
            " 3   Total Hits(per day)        19 non-null     int64\n",
            "dtypes: int64(4)\n",
            "memory usage: 736.0 bytes\n"
          ]
        }
      ],
      "source": [
        "#Get the Information of the data frame\n",
        "traffic_data.info()"
      ]
    },
    {
      "cell_type": "code",
      "execution_count": null,
      "metadata": {
        "id": "fbIrCj84w6n6",
        "outputId": "8d852fc0-5500-4c32-d04f-caa59e0670eb"
      },
      "outputs": [
        {
          "data": {
            "text/plain": [
              "Returning User               0\n",
              "New User                     0\n",
              "Page Loading Time(in sec)    0\n",
              "Total Hits(per day)          0\n",
              "dtype: int64"
            ]
          },
          "execution_count": 6,
          "metadata": {},
          "output_type": "execute_result"
        }
      ],
      "source": [
        "#Check any missing value exits are not in a data frame\n",
        "#So my data frame data is OK \n",
        "traffic_data[traffic_data.isnull()].count()"
      ]
    },
    {
      "cell_type": "code",
      "execution_count": null,
      "metadata": {
        "id": "b8VGdfCkw6n6",
        "outputId": "c6cad2d0-c996-441e-c469-f2f3280a3358"
      },
      "outputs": [
        {
          "data": {
            "text/html": [
              "<div>\n",
              "<style scoped>\n",
              "    .dataframe tbody tr th:only-of-type {\n",
              "        vertical-align: middle;\n",
              "    }\n",
              "\n",
              "    .dataframe tbody tr th {\n",
              "        vertical-align: top;\n",
              "    }\n",
              "\n",
              "    .dataframe thead th {\n",
              "        text-align: right;\n",
              "    }\n",
              "</style>\n",
              "<table border=\"1\" class=\"dataframe\">\n",
              "  <thead>\n",
              "    <tr style=\"text-align: right;\">\n",
              "      <th></th>\n",
              "      <th>Returning User</th>\n",
              "      <th>New User</th>\n",
              "      <th>Page Loading Time(in sec)</th>\n",
              "      <th>Total Hits(per day)</th>\n",
              "    </tr>\n",
              "  </thead>\n",
              "  <tbody>\n",
              "    <tr>\n",
              "      <th>count</th>\n",
              "      <td>19.000000</td>\n",
              "      <td>19.000000</td>\n",
              "      <td>19.000000</td>\n",
              "      <td>19.000000</td>\n",
              "    </tr>\n",
              "    <tr>\n",
              "      <th>mean</th>\n",
              "      <td>102.368421</td>\n",
              "      <td>53.157895</td>\n",
              "      <td>19.368421</td>\n",
              "      <td>155.526316</td>\n",
              "    </tr>\n",
              "    <tr>\n",
              "      <th>std</th>\n",
              "      <td>132.144370</td>\n",
              "      <td>109.775156</td>\n",
              "      <td>7.804632</td>\n",
              "      <td>225.572695</td>\n",
              "    </tr>\n",
              "    <tr>\n",
              "      <th>min</th>\n",
              "      <td>5.000000</td>\n",
              "      <td>5.000000</td>\n",
              "      <td>10.000000</td>\n",
              "      <td>10.000000</td>\n",
              "    </tr>\n",
              "    <tr>\n",
              "      <th>25%</th>\n",
              "      <td>30.000000</td>\n",
              "      <td>10.000000</td>\n",
              "      <td>10.000000</td>\n",
              "      <td>35.000000</td>\n",
              "    </tr>\n",
              "    <tr>\n",
              "      <th>50%</th>\n",
              "      <td>50.000000</td>\n",
              "      <td>30.000000</td>\n",
              "      <td>20.000000</td>\n",
              "      <td>100.000000</td>\n",
              "    </tr>\n",
              "    <tr>\n",
              "      <th>75%</th>\n",
              "      <td>100.000000</td>\n",
              "      <td>45.000000</td>\n",
              "      <td>25.000000</td>\n",
              "      <td>135.000000</td>\n",
              "    </tr>\n",
              "    <tr>\n",
              "      <th>max</th>\n",
              "      <td>500.000000</td>\n",
              "      <td>500.000000</td>\n",
              "      <td>30.000000</td>\n",
              "      <td>1000.000000</td>\n",
              "    </tr>\n",
              "  </tbody>\n",
              "</table>\n",
              "</div>"
            ],
            "text/plain": [
              "       Returning User    New User  Page Loading Time(in sec)  \\\n",
              "count       19.000000   19.000000                  19.000000   \n",
              "mean       102.368421   53.157895                  19.368421   \n",
              "std        132.144370  109.775156                   7.804632   \n",
              "min          5.000000    5.000000                  10.000000   \n",
              "25%         30.000000   10.000000                  10.000000   \n",
              "50%         50.000000   30.000000                  20.000000   \n",
              "75%        100.000000   45.000000                  25.000000   \n",
              "max        500.000000  500.000000                  30.000000   \n",
              "\n",
              "       Total Hits(per day)  \n",
              "count            19.000000  \n",
              "mean            155.526316  \n",
              "std             225.572695  \n",
              "min              10.000000  \n",
              "25%              35.000000  \n",
              "50%             100.000000  \n",
              "75%             135.000000  \n",
              "max            1000.000000  "
            ]
          },
          "execution_count": 7,
          "metadata": {},
          "output_type": "execute_result"
        }
      ],
      "source": [
        "#Calculate Some Statistical Information Using describe function\n",
        "traffic_data.describe()\n"
      ]
    },
    {
      "cell_type": "code",
      "execution_count": null,
      "metadata": {
        "id": "GJBDTVoaw6n7",
        "outputId": "db316ec3-b864-43cf-d42b-1aa943d8e9d1"
      },
      "outputs": [
        {
          "data": {
            "image/png": "[encoded data removed]",
            "text/plain": [
              "<Figure size 720x720 with 20 Axes>"
            ]
          },
          "metadata": {
            "needs_background": "light"
          },
          "output_type": "display_data"
        }
      ],
      "source": [
        "sns.pairplot(traffic_data)\n",
        "plt.savefig('traffic_pair_plot.jpg')"
      ]
    },
    {
      "cell_type": "code",
      "execution_count": null,
      "metadata": {
        "id": "Zh7-v9qmw6n7",
        "outputId": "a5613bae-7aaa-4f91-cf0e-6d7d98072dcc"
      },
      "outputs": [
        {
          "data": {
            "text/plain": [
              "<matplotlib.axes._subplots.AxesSubplot at 0x1aad9f81880>"
            ]
          },
          "execution_count": 9,
          "metadata": {},
          "output_type": "execute_result"
        },
        {
          "data": {
            "image/png": "[encoded data removed]",
            "text/plain": [
              "<Figure size 432x288 with 1 Axes>"
            ]
          },
          "metadata": {
            "needs_background": "light"
          },
          "output_type": "display_data"
        }
      ],
      "source": [
        "sns.distplot(traffic_data['Total Hits(per day)'])"
      ]
    },
    {
      "cell_type": "markdown",
      "metadata": {
        "id": "HSkXv2aDw6n7"
      },
      "source": [
        "# Step2\n",
        "\n",
        "Now in second step i am going to seprate my target and feature variable \n",
        "\n",
        "Target Variable\n",
        "\n",
        "1-Total Hits\n",
        "\n",
        "=================================================\n",
        "\n",
        "Feature Variables are\n",
        "\n",
        "1-Returning User\n",
        "\n",
        "2-New User\n",
        "\n",
        "3-Page Loading Time"
      ]
    },
    {
      "cell_type": "code",
      "execution_count": null,
      "metadata": {
        "id": "CHNjJwT8w6n8"
      },
      "outputs": [],
      "source": [
        "target_data=traffic_data['Total Hits(per day)']"
      ]
    },
    {
      "cell_type": "code",
      "execution_count": null,
      "metadata": {
        "id": "UFETgXPew6n8",
        "outputId": "9395a105-b988-4b11-9202-11a0e668ea71"
      },
      "outputs": [
        {
          "data": {
            "text/plain": [
              "0       20\n",
              "1       30\n",
              "2       35\n",
              "3      100\n",
              "4      100\n",
              "5      130\n",
              "6      100\n",
              "7      140\n",
              "8       10\n",
              "9       20\n",
              "10      35\n",
              "11     100\n",
              "12     100\n",
              "13     130\n",
              "14     100\n",
              "15     140\n",
              "16     240\n",
              "17     425\n",
              "18    1000\n",
              "Name: Total Hits(per day), dtype: int64"
            ]
          },
          "execution_count": 11,
          "metadata": {},
          "output_type": "execute_result"
        }
      ],
      "source": [
        "target_data"
      ]
    },
    {
      "cell_type": "code",
      "execution_count": null,
      "metadata": {
        "id": "wrtdiSkGw6n8"
      },
      "outputs": [],
      "source": [
        "feature_data=traffic_data.drop('Total Hits(per day)',axis=1)"
      ]
    },
    {
      "cell_type": "code",
      "execution_count": null,
      "metadata": {
        "id": "nGS9LQ12w6n8",
        "outputId": "2d0c94c6-e4e4-4a4f-deae-66d31d343e96"
      },
      "outputs": [
        {
          "data": {
            "text/html": [
              "<div>\n",
              "<style scoped>\n",
              "    .dataframe tbody tr th:only-of-type {\n",
              "        vertical-align: middle;\n",
              "    }\n",
              "\n",
              "    .dataframe tbody tr th {\n",
              "        vertical-align: top;\n",
              "    }\n",
              "\n",
              "    .dataframe thead th {\n",
              "        text-align: right;\n",
              "    }\n",
              "</style>\n",
              "<table border=\"1\" class=\"dataframe\">\n",
              "  <thead>\n",
              "    <tr style=\"text-align: right;\">\n",
              "      <th></th>\n",
              "      <th>Returning User</th>\n",
              "      <th>New User</th>\n",
              "      <th>Page Loading Time(in sec)</th>\n",
              "    </tr>\n",
              "  </thead>\n",
              "  <tbody>\n",
              "    <tr>\n",
              "      <th>0</th>\n",
              "      <td>10</td>\n",
              "      <td>10</td>\n",
              "      <td>10</td>\n",
              "    </tr>\n",
              "    <tr>\n",
              "      <th>1</th>\n",
              "      <td>20</td>\n",
              "      <td>10</td>\n",
              "      <td>20</td>\n",
              "    </tr>\n",
              "    <tr>\n",
              "      <th>2</th>\n",
              "      <td>30</td>\n",
              "      <td>5</td>\n",
              "      <td>30</td>\n",
              "    </tr>\n",
              "    <tr>\n",
              "      <th>3</th>\n",
              "      <td>40</td>\n",
              "      <td>60</td>\n",
              "      <td>10</td>\n",
              "    </tr>\n",
              "    <tr>\n",
              "      <th>4</th>\n",
              "      <td>50</td>\n",
              "      <td>50</td>\n",
              "      <td>20</td>\n",
              "    </tr>\n",
              "    <tr>\n",
              "      <th>5</th>\n",
              "      <td>100</td>\n",
              "      <td>30</td>\n",
              "      <td>30</td>\n",
              "    </tr>\n",
              "    <tr>\n",
              "      <th>6</th>\n",
              "      <td>80</td>\n",
              "      <td>20</td>\n",
              "      <td>10</td>\n",
              "    </tr>\n",
              "    <tr>\n",
              "      <th>7</th>\n",
              "      <td>100</td>\n",
              "      <td>40</td>\n",
              "      <td>25</td>\n",
              "    </tr>\n",
              "    <tr>\n",
              "      <th>8</th>\n",
              "      <td>5</td>\n",
              "      <td>5</td>\n",
              "      <td>10</td>\n",
              "    </tr>\n",
              "    <tr>\n",
              "      <th>9</th>\n",
              "      <td>10</td>\n",
              "      <td>10</td>\n",
              "      <td>20</td>\n",
              "    </tr>\n",
              "    <tr>\n",
              "      <th>10</th>\n",
              "      <td>30</td>\n",
              "      <td>5</td>\n",
              "      <td>30</td>\n",
              "    </tr>\n",
              "    <tr>\n",
              "      <th>11</th>\n",
              "      <td>40</td>\n",
              "      <td>60</td>\n",
              "      <td>10</td>\n",
              "    </tr>\n",
              "    <tr>\n",
              "      <th>12</th>\n",
              "      <td>50</td>\n",
              "      <td>50</td>\n",
              "      <td>20</td>\n",
              "    </tr>\n",
              "    <tr>\n",
              "      <th>13</th>\n",
              "      <td>100</td>\n",
              "      <td>30</td>\n",
              "      <td>30</td>\n",
              "    </tr>\n",
              "    <tr>\n",
              "      <th>14</th>\n",
              "      <td>80</td>\n",
              "      <td>20</td>\n",
              "      <td>10</td>\n",
              "    </tr>\n",
              "    <tr>\n",
              "      <th>15</th>\n",
              "      <td>100</td>\n",
              "      <td>40</td>\n",
              "      <td>25</td>\n",
              "    </tr>\n",
              "    <tr>\n",
              "      <th>16</th>\n",
              "      <td>200</td>\n",
              "      <td>40</td>\n",
              "      <td>25</td>\n",
              "    </tr>\n",
              "    <tr>\n",
              "      <th>17</th>\n",
              "      <td>400</td>\n",
              "      <td>25</td>\n",
              "      <td>15</td>\n",
              "    </tr>\n",
              "    <tr>\n",
              "      <th>18</th>\n",
              "      <td>500</td>\n",
              "      <td>500</td>\n",
              "      <td>18</td>\n",
              "    </tr>\n",
              "  </tbody>\n",
              "</table>\n",
              "</div>"
            ],
            "text/plain": [
              "    Returning User  New User  Page Loading Time(in sec)\n",
              "0               10        10                         10\n",
              "1               20        10                         20\n",
              "2               30         5                         30\n",
              "3               40        60                         10\n",
              "4               50        50                         20\n",
              "5              100        30                         30\n",
              "6               80        20                         10\n",
              "7              100        40                         25\n",
              "8                5         5                         10\n",
              "9               10        10                         20\n",
              "10              30         5                         30\n",
              "11              40        60                         10\n",
              "12              50        50                         20\n",
              "13             100        30                         30\n",
              "14              80        20                         10\n",
              "15             100        40                         25\n",
              "16             200        40                         25\n",
              "17             400        25                         15\n",
              "18             500       500                         18"
            ]
          },
          "execution_count": 13,
          "metadata": {},
          "output_type": "execute_result"
        }
      ],
      "source": [
        "feature_data"
      ]
    },
    {
      "cell_type": "markdown",
      "metadata": {
        "id": "hTXfIwspw6n9"
      },
      "source": [
        "# Step 3\n",
        "In step 3 ,I am going to build and train the linear regression model using sklearn library"
      ]
    },
    {
      "cell_type": "code",
      "execution_count": null,
      "metadata": {
        "id": "AztZu0z_w6n9"
      },
      "outputs": [],
      "source": [
        "from sklearn.model_selection import train_test_split\n",
        "from sklearn.linear_model import LinearRegression"
      ]
    },
    {
      "cell_type": "code",
      "execution_count": null,
      "metadata": {
        "id": "PQsDJ8O6w6n9"
      },
      "outputs": [],
      "source": [
        "#This function split the data into training and testing sets\n",
        "X_train,X_test,y_train,y_test=train_test_split(feature_data,target_data,test_size=0.3,random_state=101)"
      ]
    },
    {
      "cell_type": "code",
      "execution_count": null,
      "metadata": {
        "id": "4i8LOXe8w6n9"
      },
      "outputs": [],
      "source": [
        "#Then Import Linear Regression Model\n",
        "lm=LinearRegression()"
      ]
    },
    {
      "cell_type": "code",
      "execution_count": null,
      "metadata": {
        "id": "FSDZrCXJw6n9",
        "outputId": "05375ee7-e9bf-4313-d6b7-4c399860164a"
      },
      "outputs": [
        {
          "data": {
            "text/plain": [
              "LinearRegression()"
            ]
          },
          "execution_count": 17,
          "metadata": {},
          "output_type": "execute_result"
        }
      ],
      "source": [
        "#Now fit or train the linear regression model using fit method\n",
        "lm.fit(X_train,y_train)\n"
      ]
    },
    {
      "cell_type": "code",
      "execution_count": null,
      "metadata": {
        "id": "r8CDMBEiw6n-"
      },
      "outputs": [],
      "source": [
        "#Now my model is ready for prediction ,So let's start \n",
        "predicted_data=lm.predict(X_test)"
      ]
    },
    {
      "cell_type": "code",
      "execution_count": null,
      "metadata": {
        "id": "NEyFqHVaw6n-",
        "outputId": "e48928dd-abc3-420a-a1af-84a4e14302fd"
      },
      "outputs": [
        {
          "data": {
            "text/plain": [
              "array([100., 100.,  30.,  35.,  20., 240.])"
            ]
          },
          "execution_count": 19,
          "metadata": {},
          "output_type": "execute_result"
        }
      ],
      "source": [
        "predicted_data"
      ]
    },
    {
      "cell_type": "code",
      "execution_count": null,
      "metadata": {
        "id": "u-Co47LGw6n-",
        "outputId": "2a9e2985-50b9-4607-e00d-4c2a269a6ceb"
      },
      "outputs": [
        {
          "data": {
            "image/png": "[encoded data removed]",
            "text/plain": [
              "<Figure size 432x288 with 1 Axes>"
            ]
          },
          "metadata": {
            "needs_background": "light"
          },
          "output_type": "display_data"
        }
      ],
      "source": [
        "#Now visaulize the actual data vs predicted data using scatter plot\n",
        "\n",
        "plt.scatter(y_test,predicted_data)\n",
        "plt.savefig('linear_regression.jpg')"
      ]
    },
    {
      "cell_type": "code",
      "execution_count": null,
      "metadata": {
        "id": "uv6Sgs0Uw6n-"
      },
      "outputs": [],
      "source": [
        "#Now the above figure shows the linear regression model"
      ]
    },
    {
      "cell_type": "markdown",
      "metadata": {
        "id": "g7pe-zthw6n-"
      },
      "source": [
        "# Step 4 -Model Evaluation and Validation\n",
        "Now in fourth step,I am going to evaluate the performance of linear regression using\n",
        "\n",
        "1-Mean Absolute Error (MAE) is the mean of the absolute value of the errors:\n",
        "\n",
        "\n",
        " \n",
        "2-Mean Squared Error (MSE) is the mean of the squared errors:\n",
        "\n",
        "\n",
        " \n",
        "3-Root Mean Squared Error (RMSE) is the square root of the mean of the squared errors:\n",
        "\n",
        " \n",
        "Let's calculate these by hand\n"
      ]
    },
    {
      "cell_type": "code",
      "execution_count": null,
      "metadata": {
        "id": "OzeTjlxIw6n-",
        "outputId": "fe795e04-6952-4351-e8fc-e6b26310d03f"
      },
      "outputs": [
        {
          "name": "stdout",
          "output_type": "stream",
          "text": [
            "5.4474943074941016e-14\n",
            "3.416293626877129e-27\n",
            "5.844906865705499e-14\n"
          ]
        }
      ],
      "source": [
        "#Import metrics from sklearn\n",
        "from sklearn import metrics\n",
        "\n",
        "# calculate MAE, MSE, RMSE\n",
        "print(metrics.mean_absolute_error(y_test, predicted_data))\n",
        "print(metrics.mean_squared_error(y_test, predicted_data))\n",
        "print(np.sqrt(metrics.mean_squared_error(y_test, predicted_data)))"
      ]
    },
    {
      "cell_type": "code",
      "execution_count": null,
      "metadata": {
        "id": "uTQHI6-0w6n_"
      },
      "outputs": [],
      "source": [
        ""
      ]
    },
    {
      "cell_type": "code",
      "execution_count": null,
      "metadata": {
        "id": "hvZTcomLw6n_"
      },
      "outputs": [],
      "source": [
        ""
      ]
    },
    {
      "cell_type": "code",
      "execution_count": null,
      "metadata": {
        "id": "sCTas8wIw6n_"
      },
      "outputs": [],
      "source": [
        ""
      ]
    },
    {
      "cell_type": "code",
      "execution_count": null,
      "metadata": {
        "id": "bFTpQ8oEw6n_"
      },
      "outputs": [],
      "source": [
        ""
      ]
    },
    {
      "cell_type": "code",
      "execution_count": null,
      "metadata": {
        "id": "sx9qOuy8w6n_"
      },
      "outputs": [],
      "source": [
        ""
      ]
    }
  ],
  "metadata": {
    "kernelspec": {
      "display_name": "Python 3",
      "language": "python",
      "name": "python3"
    },
    "language_info": {
      "codemirror_mode": {
        "name": "ipython",
        "version": 3
      },
      "file_extension": ".py",
      "mimetype": "text/x-python",
      "name": "python",
      "nbconvert_exporter": "python",
      "pygments_lexer": "ipython3",
      "version": "3.8.3"
    },
    "colab": {
      "name": "5.ipynb",
      "provenance": [],
      "include_colab_link": true
    }
  },
  "nbformat": 4,
  "nbformat_minor": 0
}